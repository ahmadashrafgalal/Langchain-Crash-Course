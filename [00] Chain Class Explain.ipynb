{
 "cells": [
  {
   "cell_type": "markdown",
   "id": "458ab8ff",
   "metadata": {},
   "source": [
    "## 💡 Introduction: Building Smart Step-by-Step Pipelines with `Chain` in Python\n",
    "\n",
    "In programming, many tasks follow a clear sequence of steps:\n",
    "**clean → transform → analyze → display**.\n",
    "\n",
    "But what if we could make this process more elegant, reusable, and readable — just like chaining commands together?\n",
    "\n",
    "In this notebook, we’ll explore how to build a simple yet powerful class called `Chain` that lets you **link functions together using the pipe operator (`|`)**, similar to how tools like LangChain work.\n",
    "\n",
    "You'll see how to:\n",
    "\n",
    "* Build flexible pipelines for numbers, text, and even structured data\n",
    "* Use `lambda` functions to define simple transformations\n",
    "* Apply this approach to real-world scenarios like preprocessing, validation, and API data handling\n",
    "\n",
    "🔥 Whether you're working with data, building chatbots, or processing input step-by-step, this pattern makes your logic clean and composable.\n",
    "\n",
    "Let’s dive in and build your own mini LangChain 💪✨\n"
   ]
  },
  {
   "cell_type": "markdown",
   "id": "f869b390",
   "metadata": {},
   "source": [
    "## Chian Class "
   ]
  },
  {
   "cell_type": "code",
   "execution_count": 1,
   "id": "09800824",
   "metadata": {},
   "outputs": [
    {
     "name": "stdout",
     "output_type": "stream",
     "text": [
      "Res : 12\n"
     ]
    }
   ],
   "source": [
    "class Chain:\n",
    "    def __init__(self, func):\n",
    "        self.func = func\n",
    "\n",
    "    def __or__(self, other):\n",
    "        return Chain(lambda x: other.func(self.func(x)))\n",
    "\n",
    "    def invoke(self, input_data):\n",
    "        return self.func(input_data)\n",
    "\n",
    "step1 = Chain(lambda x: x + 1)\n",
    "step2 = Chain(lambda x: x * 2)\n",
    "step3 = Chain(lambda x: f\"Res : {x}\")\n",
    "\n",
    "chain = step1 | step2 | step3\n",
    "\n",
    "print(chain.invoke(5))"
   ]
  },
  {
   "cell_type": "markdown",
   "id": "2ca6612b",
   "metadata": {},
   "source": [
    "## <center>  ----------< Examples To Use >---------- </center>"
   ]
  },
  {
   "cell_type": "markdown",
   "id": "e524c89d",
   "metadata": {},
   "source": [
    "## 1. Text Processing Chain"
   ]
  },
  {
   "cell_type": "code",
   "execution_count": null,
   "id": "d27c6ec6",
   "metadata": {},
   "outputs": [
    {
     "name": "stdout",
     "output_type": "stream",
     "text": [
      "hello world\n"
     ]
    }
   ],
   "source": [
    "clean_text = Chain(lambda x: x.strip())  \n",
    "to_lower = Chain(lambda x: x.lower())   \n",
    "remove_punctuation = Chain(lambda x: ''.join(c for c in x if c.isalnum() or c.isspace())) \n",
    "\n",
    "text_pipeline = clean_text | to_lower | remove_punctuation\n",
    "\n",
    "print(text_pipeline.invoke(\"  Hello, World!  \"))"
   ]
  },
  {
   "cell_type": "markdown",
   "id": "2b52048b",
   "metadata": {},
   "source": [
    "## 2. Simple Sentiment Analysis"
   ]
  },
  {
   "cell_type": "code",
   "execution_count": 4,
   "id": "89be23c4",
   "metadata": {},
   "outputs": [
    {
     "name": "stdout",
     "output_type": "stream",
     "text": [
      "Detected sentiment: positive\n"
     ]
    }
   ],
   "source": [
    "detect_sentiment = Chain(lambda x: \n",
    "    \"positive\" if \"good\" in x or \"great\" in x \n",
    "    else \"negative\" if \"bad\" in x \n",
    "    else \"neutral\"\n",
    ")\n",
    "\n",
    "format_output = Chain(lambda x: f\"Detected sentiment: {x}\")\n",
    "\n",
    "sentiment_chain = detect_sentiment | format_output\n",
    "\n",
    "print(sentiment_chain.invoke(\"This product is really good!\"))"
   ]
  },
  {
   "cell_type": "markdown",
   "id": "877c20b8",
   "metadata": {},
   "source": [
    "## 3. Data Validation Chain"
   ]
  },
  {
   "cell_type": "code",
   "execution_count": 8,
   "id": "d0923d94",
   "metadata": {},
   "outputs": [
    {
     "name": "stdout",
     "output_type": "stream",
     "text": [
      "AHMAD\n"
     ]
    }
   ],
   "source": [
    "is_not_empty = Chain(lambda x: x if x else ValueError(\"Empty Input\"))\n",
    "length_check = Chain(lambda x: x if len(x) > 3 else ValueError(\"Too short\"))\n",
    "to_upper = Chain(lambda x: x.upper())\n",
    "\n",
    "validation_chain = is_not_empty | length_check | to_upper\n",
    "\n",
    "try:\n",
    "    print(validation_chain.invoke(\"ahmad\"))\n",
    "except Exception as e:\n",
    "    print(e)"
   ]
  },
  {
   "cell_type": "markdown",
   "id": "b0625476",
   "metadata": {},
   "source": [
    "## 4. Web Input Validation"
   ]
  },
  {
   "cell_type": "code",
   "execution_count": 9,
   "id": "5ad181c3",
   "metadata": {},
   "outputs": [
    {
     "name": "stdout",
     "output_type": "stream",
     "text": [
      "ahmad@gmail.com\n"
     ]
    }
   ],
   "source": [
    "sanitize_input = Chain(lambda x: x.strip())\n",
    "check_email_format = Chain(lambda x: x if \"@\" in x and \".\" in x else ValueError(\"Invalid email\"))\n",
    "to_lowercase = Chain(lambda x: x.lower())\n",
    "\n",
    "email_pipeline = sanitize_input | check_email_format | to_lowercase\n",
    "\n",
    "try:\n",
    "    print(email_pipeline.invoke(\"  Ahmad@GMAIL.Com  \"))\n",
    "except Exception as e:\n",
    "    print(e)"
   ]
  }
 ],
 "metadata": {
  "kernelspec": {
   "display_name": "Python 3",
   "language": "python",
   "name": "python3"
  },
  "language_info": {
   "codemirror_mode": {
    "name": "ipython",
    "version": 3
   },
   "file_extension": ".py",
   "mimetype": "text/x-python",
   "name": "python",
   "nbconvert_exporter": "python",
   "pygments_lexer": "ipython3",
   "version": "3.11.3"
  }
 },
 "nbformat": 4,
 "nbformat_minor": 5
}
